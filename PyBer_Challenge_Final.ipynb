{
 "cells": [
  {
   "cell_type": "markdown",
   "metadata": {},
   "source": [
    "# Pyber Challenge"
   ]
  },
  {
   "cell_type": "markdown",
   "metadata": {},
   "source": [
    "### 4.3 Loading and Reading CSV files"
   ]
  },
  {
   "cell_type": "code",
   "execution_count": 1,
   "metadata": {},
   "outputs": [
    {
     "data": {
      "text/html": [
       "<div>\n",
       "<style scoped>\n",
       "    .dataframe tbody tr th:only-of-type {\n",
       "        vertical-align: middle;\n",
       "    }\n",
       "\n",
       "    .dataframe tbody tr th {\n",
       "        vertical-align: top;\n",
       "    }\n",
       "\n",
       "    .dataframe thead th {\n",
       "        text-align: right;\n",
       "    }\n",
       "</style>\n",
       "<table border=\"1\" class=\"dataframe\">\n",
       "  <thead>\n",
       "    <tr style=\"text-align: right;\">\n",
       "      <th></th>\n",
       "      <th>city</th>\n",
       "      <th>date</th>\n",
       "      <th>fare</th>\n",
       "      <th>ride_id</th>\n",
       "    </tr>\n",
       "  </thead>\n",
       "  <tbody>\n",
       "    <tr>\n",
       "      <th>0</th>\n",
       "      <td>Lake Jonathanshire</td>\n",
       "      <td>1/14/2019 10:14</td>\n",
       "      <td>13.83</td>\n",
       "      <td>5.739410e+12</td>\n",
       "    </tr>\n",
       "    <tr>\n",
       "      <th>1</th>\n",
       "      <td>South Michelleport</td>\n",
       "      <td>3/4/2019 18:24</td>\n",
       "      <td>30.24</td>\n",
       "      <td>2.343910e+12</td>\n",
       "    </tr>\n",
       "    <tr>\n",
       "      <th>2</th>\n",
       "      <td>Port Samanthamouth</td>\n",
       "      <td>2/24/2019 4:29</td>\n",
       "      <td>33.44</td>\n",
       "      <td>2.005070e+12</td>\n",
       "    </tr>\n",
       "    <tr>\n",
       "      <th>3</th>\n",
       "      <td>Rodneyfort</td>\n",
       "      <td>2/10/2019 23:22</td>\n",
       "      <td>23.44</td>\n",
       "      <td>5.149250e+12</td>\n",
       "    </tr>\n",
       "    <tr>\n",
       "      <th>4</th>\n",
       "      <td>South Jack</td>\n",
       "      <td>3/6/2019 4:28</td>\n",
       "      <td>34.58</td>\n",
       "      <td>3.908450e+12</td>\n",
       "    </tr>\n",
       "    <tr>\n",
       "      <th>...</th>\n",
       "      <td>...</td>\n",
       "      <td>...</td>\n",
       "      <td>...</td>\n",
       "      <td>...</td>\n",
       "    </tr>\n",
       "    <tr>\n",
       "      <th>2370</th>\n",
       "      <td>Michaelberg</td>\n",
       "      <td>4/29/2019 17:04</td>\n",
       "      <td>13.38</td>\n",
       "      <td>8.550370e+12</td>\n",
       "    </tr>\n",
       "    <tr>\n",
       "      <th>2371</th>\n",
       "      <td>Lake Latoyabury</td>\n",
       "      <td>1/30/2019 0:05</td>\n",
       "      <td>20.76</td>\n",
       "      <td>9.018730e+12</td>\n",
       "    </tr>\n",
       "    <tr>\n",
       "      <th>2372</th>\n",
       "      <td>North Jaime</td>\n",
       "      <td>2/10/2019 21:03</td>\n",
       "      <td>11.11</td>\n",
       "      <td>2.781340e+12</td>\n",
       "    </tr>\n",
       "    <tr>\n",
       "      <th>2373</th>\n",
       "      <td>West Heather</td>\n",
       "      <td>5/7/2019 19:22</td>\n",
       "      <td>44.94</td>\n",
       "      <td>4.256850e+12</td>\n",
       "    </tr>\n",
       "    <tr>\n",
       "      <th>2374</th>\n",
       "      <td>Newtonview</td>\n",
       "      <td>4/25/2019 10:20</td>\n",
       "      <td>55.84</td>\n",
       "      <td>9.990580e+12</td>\n",
       "    </tr>\n",
       "  </tbody>\n",
       "</table>\n",
       "<p>2375 rows × 4 columns</p>\n",
       "</div>"
      ],
      "text/plain": [
       "                    city             date   fare       ride_id\n",
       "0     Lake Jonathanshire  1/14/2019 10:14  13.83  5.739410e+12\n",
       "1     South Michelleport   3/4/2019 18:24  30.24  2.343910e+12\n",
       "2     Port Samanthamouth   2/24/2019 4:29  33.44  2.005070e+12\n",
       "3             Rodneyfort  2/10/2019 23:22  23.44  5.149250e+12\n",
       "4             South Jack    3/6/2019 4:28  34.58  3.908450e+12\n",
       "...                  ...              ...    ...           ...\n",
       "2370         Michaelberg  4/29/2019 17:04  13.38  8.550370e+12\n",
       "2371     Lake Latoyabury   1/30/2019 0:05  20.76  9.018730e+12\n",
       "2372         North Jaime  2/10/2019 21:03  11.11  2.781340e+12\n",
       "2373        West Heather   5/7/2019 19:22  44.94  4.256850e+12\n",
       "2374          Newtonview  4/25/2019 10:20  55.84  9.990580e+12\n",
       "\n",
       "[2375 rows x 4 columns]"
      ]
     },
     "execution_count": 1,
     "metadata": {},
     "output_type": "execute_result"
    }
   ],
   "source": [
    "# Add Matplotlib inline magic command\n",
    "%matplotlib inline\n",
    "# Dependencies and Setup\n",
    "import matplotlib.pyplot as plt\n",
    "import pandas as pd\n",
    "\n",
    "# File to Load (Remember to change these)\n",
    "city_data_to_load = \"city_data.csv\"\n",
    "ride_data_to_load = \"ride_data.csv\"\n",
    "\n",
    "# Read the City and Ride Data\n",
    "city_data_df = pd.read_csv(city_data_to_load)\n",
    "ride_data_df = pd.read_csv(ride_data_to_load)\n",
    "\n",
    "ride_data_df"
   ]
  },
  {
   "cell_type": "markdown",
   "metadata": {},
   "source": [
    "### Merge the DataFrames"
   ]
  },
  {
   "cell_type": "code",
   "execution_count": 2,
   "metadata": {
    "scrolled": true
   },
   "outputs": [
    {
     "data": {
      "text/html": [
       "<div>\n",
       "<style scoped>\n",
       "    .dataframe tbody tr th:only-of-type {\n",
       "        vertical-align: middle;\n",
       "    }\n",
       "\n",
       "    .dataframe tbody tr th {\n",
       "        vertical-align: top;\n",
       "    }\n",
       "\n",
       "    .dataframe thead th {\n",
       "        text-align: right;\n",
       "    }\n",
       "</style>\n",
       "<table border=\"1\" class=\"dataframe\">\n",
       "  <thead>\n",
       "    <tr style=\"text-align: right;\">\n",
       "      <th></th>\n",
       "      <th>city</th>\n",
       "      <th>date</th>\n",
       "      <th>fare</th>\n",
       "      <th>ride_id</th>\n",
       "      <th>driver_count</th>\n",
       "      <th>type</th>\n",
       "    </tr>\n",
       "  </thead>\n",
       "  <tbody>\n",
       "    <tr>\n",
       "      <th>0</th>\n",
       "      <td>Lake Jonathanshire</td>\n",
       "      <td>1/14/2019 10:14</td>\n",
       "      <td>13.83</td>\n",
       "      <td>5.739410e+12</td>\n",
       "      <td>5</td>\n",
       "      <td>Urban</td>\n",
       "    </tr>\n",
       "    <tr>\n",
       "      <th>1</th>\n",
       "      <td>South Michelleport</td>\n",
       "      <td>3/4/2019 18:24</td>\n",
       "      <td>30.24</td>\n",
       "      <td>2.343910e+12</td>\n",
       "      <td>72</td>\n",
       "      <td>Urban</td>\n",
       "    </tr>\n",
       "    <tr>\n",
       "      <th>2</th>\n",
       "      <td>Port Samanthamouth</td>\n",
       "      <td>2/24/2019 4:29</td>\n",
       "      <td>33.44</td>\n",
       "      <td>2.005070e+12</td>\n",
       "      <td>57</td>\n",
       "      <td>Urban</td>\n",
       "    </tr>\n",
       "    <tr>\n",
       "      <th>3</th>\n",
       "      <td>Rodneyfort</td>\n",
       "      <td>2/10/2019 23:22</td>\n",
       "      <td>23.44</td>\n",
       "      <td>5.149250e+12</td>\n",
       "      <td>34</td>\n",
       "      <td>Urban</td>\n",
       "    </tr>\n",
       "    <tr>\n",
       "      <th>4</th>\n",
       "      <td>South Jack</td>\n",
       "      <td>3/6/2019 4:28</td>\n",
       "      <td>34.58</td>\n",
       "      <td>3.908450e+12</td>\n",
       "      <td>46</td>\n",
       "      <td>Urban</td>\n",
       "    </tr>\n",
       "  </tbody>\n",
       "</table>\n",
       "</div>"
      ],
      "text/plain": [
       "                 city             date   fare       ride_id  driver_count  \\\n",
       "0  Lake Jonathanshire  1/14/2019 10:14  13.83  5.739410e+12             5   \n",
       "1  South Michelleport   3/4/2019 18:24  30.24  2.343910e+12            72   \n",
       "2  Port Samanthamouth   2/24/2019 4:29  33.44  2.005070e+12            57   \n",
       "3          Rodneyfort  2/10/2019 23:22  23.44  5.149250e+12            34   \n",
       "4          South Jack    3/6/2019 4:28  34.58  3.908450e+12            46   \n",
       "\n",
       "    type  \n",
       "0  Urban  \n",
       "1  Urban  \n",
       "2  Urban  \n",
       "3  Urban  \n",
       "4  Urban  "
      ]
     },
     "execution_count": 2,
     "metadata": {},
     "output_type": "execute_result"
    }
   ],
   "source": [
    "# Combine the data into a single dataset\n",
    "pyber_data_df = pd.merge(ride_data_df, city_data_df, how=\"left\", on=[\"city\", \"city\"])\n",
    "\n",
    "# Display the data table for preview\n",
    "pyber_data_df.head()"
   ]
  },
  {
   "cell_type": "markdown",
   "metadata": {},
   "source": [
    "## Deliverable 1: Get a Summary DataFrame "
   ]
  },
  {
   "cell_type": "code",
   "execution_count": 3,
   "metadata": {
    "scrolled": false
   },
   "outputs": [
    {
     "name": "stdout",
     "output_type": "stream",
     "text": [
      "type\n",
      "Rural        125\n",
      "Suburban     625\n",
      "Urban       1625\n",
      "Name: ride_id, dtype: int64\n"
     ]
    }
   ],
   "source": [
    "#  1. Get the total rides for each city type\n",
    "total_rides_per_type = pyber_data_df.groupby([\"type\"]).count()[\"ride_id\"]\n",
    "\n",
    "print(total_rides_per_type)"
   ]
  },
  {
   "cell_type": "code",
   "execution_count": 4,
   "metadata": {},
   "outputs": [
    {
     "data": {
      "text/plain": [
       "type\n",
       "Rural         78\n",
       "Suburban     490\n",
       "Urban       2405\n",
       "Name: driver_count, dtype: int64"
      ]
     },
     "execution_count": 4,
     "metadata": {},
     "output_type": "execute_result"
    }
   ],
   "source": [
    "# 2. Get the total drivers for each city type\n",
    "total_driver_per_type =  city_data_df.groupby([\"type\"]).sum()[\"driver_count\"]\n",
    "total_driver_per_type"
   ]
  },
  {
   "cell_type": "code",
   "execution_count": 5,
   "metadata": {},
   "outputs": [
    {
     "data": {
      "text/plain": [
       "type\n",
       "Rural        4327.93\n",
       "Suburban    19356.33\n",
       "Urban       39854.38\n",
       "Name: fare, dtype: float64"
      ]
     },
     "execution_count": 5,
     "metadata": {},
     "output_type": "execute_result"
    }
   ],
   "source": [
    "#  3. Get the total amount of fares for each city type\n",
    "total_fares_per_type =  pyber_data_df.groupby([\"type\"]).sum()[\"fare\"] \n",
    "\n",
    "total_fares_per_type"
   ]
  },
  {
   "cell_type": "code",
   "execution_count": 6,
   "metadata": {},
   "outputs": [
    {
     "name": "stdout",
     "output_type": "stream",
     "text": [
      "type\n",
      "Rural       55.486282\n",
      "Suburban    39.502714\n",
      "Urban       16.571468\n",
      "dtype: float64\n"
     ]
    }
   ],
   "source": [
    "#  4. Get the average fare per driver for each city type.\n",
    "avg_fare_per_driver=total_fares_per_type/total_driver_per_type\n",
    "\n",
    "print(avg_fare_per_driver)"
   ]
  },
  {
   "cell_type": "code",
   "execution_count": 7,
   "metadata": {},
   "outputs": [
    {
     "data": {
      "text/plain": [
       "type\n",
       "Rural       34.623440\n",
       "Suburban    30.970128\n",
       "Urban       24.525772\n",
       "dtype: float64"
      ]
     },
     "execution_count": 7,
     "metadata": {},
     "output_type": "execute_result"
    }
   ],
   "source": [
    "# 5. Get the average fare per ride for each city type  \n",
    "avg_fare_per_ride=total_fares_per_type/total_rides_per_type\n",
    "avg_fare_per_ride"
   ]
  },
  {
   "cell_type": "code",
   "execution_count": 8,
   "metadata": {},
   "outputs": [
    {
     "data": {
      "text/html": [
       "<div>\n",
       "<style scoped>\n",
       "    .dataframe tbody tr th:only-of-type {\n",
       "        vertical-align: middle;\n",
       "    }\n",
       "\n",
       "    .dataframe tbody tr th {\n",
       "        vertical-align: top;\n",
       "    }\n",
       "\n",
       "    .dataframe thead th {\n",
       "        text-align: right;\n",
       "    }\n",
       "</style>\n",
       "<table border=\"1\" class=\"dataframe\">\n",
       "  <thead>\n",
       "    <tr style=\"text-align: right;\">\n",
       "      <th></th>\n",
       "      <th>Total Rides</th>\n",
       "      <th>Total Drivers</th>\n",
       "      <th>Total Fares</th>\n",
       "      <th>Average Fare per Ride</th>\n",
       "      <th>Average Fare per Driver</th>\n",
       "    </tr>\n",
       "  </thead>\n",
       "  <tbody>\n",
       "    <tr>\n",
       "      <th>Rural</th>\n",
       "      <td>125</td>\n",
       "      <td>78</td>\n",
       "      <td>$4,328</td>\n",
       "      <td>$35</td>\n",
       "      <td>$55</td>\n",
       "    </tr>\n",
       "    <tr>\n",
       "      <th>Suburban</th>\n",
       "      <td>625</td>\n",
       "      <td>490</td>\n",
       "      <td>$19,356</td>\n",
       "      <td>$31</td>\n",
       "      <td>$40</td>\n",
       "    </tr>\n",
       "    <tr>\n",
       "      <th>Urban</th>\n",
       "      <td>1,625</td>\n",
       "      <td>2,405</td>\n",
       "      <td>$39,854</td>\n",
       "      <td>$25</td>\n",
       "      <td>$17</td>\n",
       "    </tr>\n",
       "  </tbody>\n",
       "</table>\n",
       "</div>"
      ],
      "text/plain": [
       "         Total Rides Total Drivers Total Fares Average Fare per Ride  \\\n",
       "Rural            125            78      $4,328                   $35   \n",
       "Suburban         625           490     $19,356                   $31   \n",
       "Urban          1,625         2,405     $39,854                   $25   \n",
       "\n",
       "         Average Fare per Driver  \n",
       "Rural                        $55  \n",
       "Suburban                     $40  \n",
       "Urban                        $17  "
      ]
     },
     "execution_count": 8,
     "metadata": {},
     "output_type": "execute_result"
    }
   ],
   "source": [
    "#  6. Create a PyBer summary DataFrame. Total Rides ,Total Drivers, Total Fares, Average Fare per Ride, Average Fare per Driver\n",
    "#  7. Cleaning up the DataFrame. Delete the index name\n",
    "#  8. Format the columns.\n",
    "pyber_summary_df=pd.DataFrame({\n",
    "    \"Total Rides\": total_rides_per_type.map(\"{:,}\".format),\n",
    "                              \"Total Drivers\": total_driver_per_type.map(\"{:,}\".format),\n",
    "                               \"Total Fares\": total_fares_per_type.map(\"${:,.0f}\".format),\n",
    "                               \"Average Fare per Ride\": avg_fare_per_ride.map(\"${:,.0f}\".format),\n",
    "                                \"Average Fare per Driver\": avg_fare_per_driver.map(\"${:,.0f}\".format)})\n",
    "\n",
    "pyber_summary_df.index.name = None\n",
    "pyber_summary_df\n"
   ]
  },
  {
   "cell_type": "markdown",
   "metadata": {},
   "source": [
    "## Deliverable 2.  Create a multiple line plot that shows the total weekly of the fares for each type of city."
   ]
  },
  {
   "cell_type": "code",
   "execution_count": 9,
   "metadata": {},
   "outputs": [
    {
     "data": {
      "text/html": [
       "<div>\n",
       "<style scoped>\n",
       "    .dataframe tbody tr th:only-of-type {\n",
       "        vertical-align: middle;\n",
       "    }\n",
       "\n",
       "    .dataframe tbody tr th {\n",
       "        vertical-align: top;\n",
       "    }\n",
       "\n",
       "    .dataframe thead th {\n",
       "        text-align: right;\n",
       "    }\n",
       "</style>\n",
       "<table border=\"1\" class=\"dataframe\">\n",
       "  <thead>\n",
       "    <tr style=\"text-align: right;\">\n",
       "      <th></th>\n",
       "      <th>city</th>\n",
       "      <th>date</th>\n",
       "      <th>fare</th>\n",
       "      <th>ride_id</th>\n",
       "      <th>driver_count</th>\n",
       "      <th>type</th>\n",
       "    </tr>\n",
       "  </thead>\n",
       "  <tbody>\n",
       "    <tr>\n",
       "      <th>0</th>\n",
       "      <td>Lake Jonathanshire</td>\n",
       "      <td>1/14/2019 10:14</td>\n",
       "      <td>13.83</td>\n",
       "      <td>5.739410e+12</td>\n",
       "      <td>5</td>\n",
       "      <td>Urban</td>\n",
       "    </tr>\n",
       "    <tr>\n",
       "      <th>1</th>\n",
       "      <td>South Michelleport</td>\n",
       "      <td>3/4/2019 18:24</td>\n",
       "      <td>30.24</td>\n",
       "      <td>2.343910e+12</td>\n",
       "      <td>72</td>\n",
       "      <td>Urban</td>\n",
       "    </tr>\n",
       "    <tr>\n",
       "      <th>2</th>\n",
       "      <td>Port Samanthamouth</td>\n",
       "      <td>2/24/2019 4:29</td>\n",
       "      <td>33.44</td>\n",
       "      <td>2.005070e+12</td>\n",
       "      <td>57</td>\n",
       "      <td>Urban</td>\n",
       "    </tr>\n",
       "    <tr>\n",
       "      <th>3</th>\n",
       "      <td>Rodneyfort</td>\n",
       "      <td>2/10/2019 23:22</td>\n",
       "      <td>23.44</td>\n",
       "      <td>5.149250e+12</td>\n",
       "      <td>34</td>\n",
       "      <td>Urban</td>\n",
       "    </tr>\n",
       "    <tr>\n",
       "      <th>4</th>\n",
       "      <td>South Jack</td>\n",
       "      <td>3/6/2019 4:28</td>\n",
       "      <td>34.58</td>\n",
       "      <td>3.908450e+12</td>\n",
       "      <td>46</td>\n",
       "      <td>Urban</td>\n",
       "    </tr>\n",
       "    <tr>\n",
       "      <th>...</th>\n",
       "      <td>...</td>\n",
       "      <td>...</td>\n",
       "      <td>...</td>\n",
       "      <td>...</td>\n",
       "      <td>...</td>\n",
       "      <td>...</td>\n",
       "    </tr>\n",
       "    <tr>\n",
       "      <th>2370</th>\n",
       "      <td>Michaelberg</td>\n",
       "      <td>4/29/2019 17:04</td>\n",
       "      <td>13.38</td>\n",
       "      <td>8.550370e+12</td>\n",
       "      <td>6</td>\n",
       "      <td>Rural</td>\n",
       "    </tr>\n",
       "    <tr>\n",
       "      <th>2371</th>\n",
       "      <td>Lake Latoyabury</td>\n",
       "      <td>1/30/2019 0:05</td>\n",
       "      <td>20.76</td>\n",
       "      <td>9.018730e+12</td>\n",
       "      <td>2</td>\n",
       "      <td>Rural</td>\n",
       "    </tr>\n",
       "    <tr>\n",
       "      <th>2372</th>\n",
       "      <td>North Jaime</td>\n",
       "      <td>2/10/2019 21:03</td>\n",
       "      <td>11.11</td>\n",
       "      <td>2.781340e+12</td>\n",
       "      <td>1</td>\n",
       "      <td>Rural</td>\n",
       "    </tr>\n",
       "    <tr>\n",
       "      <th>2373</th>\n",
       "      <td>West Heather</td>\n",
       "      <td>5/7/2019 19:22</td>\n",
       "      <td>44.94</td>\n",
       "      <td>4.256850e+12</td>\n",
       "      <td>4</td>\n",
       "      <td>Rural</td>\n",
       "    </tr>\n",
       "    <tr>\n",
       "      <th>2374</th>\n",
       "      <td>Newtonview</td>\n",
       "      <td>4/25/2019 10:20</td>\n",
       "      <td>55.84</td>\n",
       "      <td>9.990580e+12</td>\n",
       "      <td>1</td>\n",
       "      <td>Rural</td>\n",
       "    </tr>\n",
       "  </tbody>\n",
       "</table>\n",
       "<p>2375 rows × 6 columns</p>\n",
       "</div>"
      ],
      "text/plain": [
       "                    city             date   fare       ride_id  driver_count  \\\n",
       "0     Lake Jonathanshire  1/14/2019 10:14  13.83  5.739410e+12             5   \n",
       "1     South Michelleport   3/4/2019 18:24  30.24  2.343910e+12            72   \n",
       "2     Port Samanthamouth   2/24/2019 4:29  33.44  2.005070e+12            57   \n",
       "3             Rodneyfort  2/10/2019 23:22  23.44  5.149250e+12            34   \n",
       "4             South Jack    3/6/2019 4:28  34.58  3.908450e+12            46   \n",
       "...                  ...              ...    ...           ...           ...   \n",
       "2370         Michaelberg  4/29/2019 17:04  13.38  8.550370e+12             6   \n",
       "2371     Lake Latoyabury   1/30/2019 0:05  20.76  9.018730e+12             2   \n",
       "2372         North Jaime  2/10/2019 21:03  11.11  2.781340e+12             1   \n",
       "2373        West Heather   5/7/2019 19:22  44.94  4.256850e+12             4   \n",
       "2374          Newtonview  4/25/2019 10:20  55.84  9.990580e+12             1   \n",
       "\n",
       "       type  \n",
       "0     Urban  \n",
       "1     Urban  \n",
       "2     Urban  \n",
       "3     Urban  \n",
       "4     Urban  \n",
       "...     ...  \n",
       "2370  Rural  \n",
       "2371  Rural  \n",
       "2372  Rural  \n",
       "2373  Rural  \n",
       "2374  Rural  \n",
       "\n",
       "[2375 rows x 6 columns]"
      ]
     },
     "execution_count": 9,
     "metadata": {},
     "output_type": "execute_result"
    }
   ],
   "source": [
    "# 1. Read the merged DataFrame\n",
    "pyber_data_df"
   ]
  },
  {
   "cell_type": "code",
   "execution_count": 18,
   "metadata": {
    "scrolled": false
   },
   "outputs": [
    {
     "name": "stdout",
     "output_type": "stream",
     "text": [
      "                        fare\n",
      "type  date                  \n",
      "Rural 1/1/2019 9:45    43.69\n",
      "      1/11/2019 4:39   16.42\n",
      "      1/14/2019 15:58  54.10\n",
      "      1/14/2019 7:09   18.05\n",
      "      1/15/2019 21:44  30.26\n",
      "                       ride_id\n",
      "type  date                    \n",
      "Rural 1/1/2019 9:45          1\n",
      "      1/11/2019 4:39         1\n",
      "      1/14/2019 15:58        1\n",
      "      1/14/2019 7:09         1\n",
      "      1/15/2019 21:44        1\n",
      "...                        ...\n",
      "Urban 5/8/2019 1:54          1\n",
      "      5/8/2019 2:31          1\n",
      "      5/8/2019 4:20          1\n",
      "      5/8/2019 4:39          1\n",
      "      5/8/2019 7:29          1\n",
      "\n",
      "[2364 rows x 1 columns]\n"
     ]
    }
   ],
   "source": [
    "# 2. Using groupby() to create a new DataFrame showing the sum of the fares \n",
    "#  for each date where the indices are the city type and date.\n",
    "\n",
    "fares_date=pyber_data_df.groupby([\"type\", \"date\"]).sum()[[\"fare\"]]\n",
    "\n",
    "ride_count_date=pyber_data_df.groupby([\"type\", \"date\"]).count()[[\"ride_id\"]]\n",
    "\n",
    "print(fares_date.head())\n",
    "print(ride_count_date)"
   ]
  },
  {
   "cell_type": "code",
   "execution_count": 19,
   "metadata": {},
   "outputs": [
    {
     "name": "stdout",
     "output_type": "stream",
     "text": [
      "       type             date   fare\n",
      "0     Rural    1/1/2019 9:45  43.69\n",
      "1     Rural   1/11/2019 4:39  16.42\n",
      "2     Rural  1/14/2019 15:58  54.10\n",
      "3     Rural   1/14/2019 7:09  18.05\n",
      "4     Rural  1/15/2019 21:44  30.26\n",
      "...     ...              ...    ...\n",
      "2359  Urban    5/8/2019 1:54  32.69\n",
      "2360  Urban    5/8/2019 2:31  41.33\n",
      "2361  Urban    5/8/2019 4:20  21.99\n",
      "2362  Urban    5/8/2019 4:39  18.45\n",
      "2363  Urban    5/8/2019 7:29  18.55\n",
      "\n",
      "[2364 rows x 3 columns]\n",
      "       type             date  ride_id\n",
      "0     Rural    1/1/2019 9:45        1\n",
      "1     Rural   1/11/2019 4:39        1\n",
      "2     Rural  1/14/2019 15:58        1\n",
      "3     Rural   1/14/2019 7:09        1\n",
      "4     Rural  1/15/2019 21:44        1\n",
      "...     ...              ...      ...\n",
      "2359  Urban    5/8/2019 1:54        1\n",
      "2360  Urban    5/8/2019 2:31        1\n",
      "2361  Urban    5/8/2019 4:20        1\n",
      "2362  Urban    5/8/2019 4:39        1\n",
      "2363  Urban    5/8/2019 7:29        1\n",
      "\n",
      "[2364 rows x 3 columns]\n"
     ]
    }
   ],
   "source": [
    "# 3. Reset the index on the DataFrame you created in #1. This is needed to use the 'pivot()' function.\n",
    "# df = df.reset_index()\n",
    "fares_date=fares_date.reset_index()\n",
    "\n",
    "print(fares_date)\n",
    "#fares_date.dtypes\n",
    "\n",
    "ride_count_date=ride_count_date.reset_index()\n",
    "print(ride_count_date)"
   ]
  },
  {
   "cell_type": "code",
   "execution_count": 32,
   "metadata": {},
   "outputs": [
    {
     "name": "stdout",
     "output_type": "stream",
     "text": [
      "       type                date   fare\n",
      "0     Rural 2019-01-01 09:45:00  43.69\n",
      "1     Rural 2019-01-11 04:39:00  16.42\n",
      "2     Rural 2019-01-14 15:58:00  54.10\n",
      "3     Rural 2019-01-14 07:09:00  18.05\n",
      "4     Rural 2019-01-15 21:44:00  30.26\n",
      "...     ...                 ...    ...\n",
      "2359  Urban 2019-05-08 01:54:00  32.69\n",
      "2360  Urban 2019-05-08 02:31:00  41.33\n",
      "2361  Urban 2019-05-08 04:20:00  21.99\n",
      "2362  Urban 2019-05-08 04:39:00  18.45\n",
      "2363  Urban 2019-05-08 07:29:00  18.55\n",
      "\n",
      "[2364 rows x 3 columns]\n",
      "       type                date  ride_id\n",
      "0     Rural 2019-01-01 09:45:00        1\n",
      "1     Rural 2019-01-11 04:39:00        1\n",
      "2     Rural 2019-01-14 15:58:00        1\n",
      "3     Rural 2019-01-14 07:09:00        1\n",
      "4     Rural 2019-01-15 21:44:00        1\n",
      "...     ...                 ...      ...\n",
      "2359  Urban 2019-05-08 01:54:00        1\n",
      "2360  Urban 2019-05-08 02:31:00        1\n",
      "2361  Urban 2019-05-08 04:20:00        1\n",
      "2362  Urban 2019-05-08 04:39:00        1\n",
      "2363  Urban 2019-05-08 07:29:00        1\n",
      "\n",
      "[2364 rows x 3 columns]\n"
     ]
    }
   ],
   "source": [
    "fares_date[\"date\"]=pd.to_datetime(fares_date[\"date\"])\n",
    "print(fares_date)\n",
    "\n",
    "ride_count_date[\"date\"]=pd.to_datetime(ride_count_date[\"date\"])\n",
    "print(ride_count_date)"
   ]
  },
  {
   "cell_type": "code",
   "execution_count": 33,
   "metadata": {
    "scrolled": false
   },
   "outputs": [
    {
     "name": "stdout",
     "output_type": "stream",
     "text": [
      "type\n",
      "Rural       float64\n",
      "Suburban    float64\n",
      "Urban       float64\n",
      "dtype: object\n",
      "type                 Rural  Suburban  Urban\n",
      "date                                       \n",
      "2019-01-01 00:08:00    NaN       NaN  37.91\n",
      "2019-01-01 00:46:00    NaN     47.74    NaN\n",
      "2019-01-01 02:07:00    NaN     24.07    NaN\n",
      "2019-01-01 03:46:00    NaN       NaN   7.57\n",
      "2019-01-01 05:23:00    NaN       NaN  10.75\n",
      "...                    ...       ...    ...\n",
      "2019-05-08 04:20:00    NaN       NaN  21.99\n",
      "2019-05-08 04:39:00    NaN       NaN  18.45\n",
      "2019-05-08 07:29:00    NaN       NaN  18.55\n",
      "2019-05-08 11:38:00    NaN       NaN  19.77\n",
      "2019-05-08 13:10:00    NaN       NaN  18.04\n",
      "\n",
      "[2361 rows x 3 columns]\n",
      "type                 Rural  Suburban  Urban\n",
      "date                                       \n",
      "2019-01-01 00:08:00    NaN       NaN    1.0\n",
      "2019-01-01 00:46:00    NaN       1.0    NaN\n",
      "2019-01-01 02:07:00    NaN       1.0    NaN\n",
      "2019-01-01 03:46:00    NaN       NaN    1.0\n",
      "2019-01-01 05:23:00    NaN       NaN    1.0\n",
      "...                    ...       ...    ...\n",
      "2019-05-08 04:20:00    NaN       NaN    1.0\n",
      "2019-05-08 04:39:00    NaN       NaN    1.0\n",
      "2019-05-08 07:29:00    NaN       NaN    1.0\n",
      "2019-05-08 11:38:00    NaN       NaN    1.0\n",
      "2019-05-08 13:10:00    NaN       NaN    1.0\n",
      "\n",
      "[2361 rows x 3 columns]\n"
     ]
    }
   ],
   "source": [
    "# 4. Create a pivot table with the 'date' as the index, the columns ='type', and values='fare' \n",
    "# to get the total fares for each type of city by the date. \n",
    "fares_date_pivot=fares_date.pivot(index=\"date\",columns=\"type\",values=\"fare\")\n",
    "print(fares_date_pivot.dtypes)\n",
    "print(fares_date_pivot)\n",
    "\n",
    "#ride_count_date_pivot=ride_count_date.pivot(index=\"date\",columns=\"type\",values=\"ride_id\",aggfunc=\"count\")\n",
    "#print(ride_count_pivot)\n",
    "ride_count_date_pivot = pd.pivot_table(ride_count_date, index= 'date', columns='type', values= 'ride_id', aggfunc='count')\n",
    "print(ride_count_date_pivot)"
   ]
  },
  {
   "cell_type": "code",
   "execution_count": 45,
   "metadata": {},
   "outputs": [
    {
     "name": "stdout",
     "output_type": "stream",
     "text": [
      "type                 Rural  Suburban  Urban\n",
      "date                                       \n",
      "2019-01-01 00:08:00    NaN       NaN  37.91\n",
      "2019-01-01 00:46:00    NaN     47.74    NaN\n",
      "2019-01-01 02:07:00    NaN     24.07    NaN\n",
      "2019-01-01 03:46:00    NaN       NaN   7.57\n",
      "2019-01-01 05:23:00    NaN       NaN  10.75\n",
      "...                    ...       ...    ...\n",
      "2019-04-28 14:28:00    NaN       NaN  11.46\n",
      "2019-04-28 16:29:00    NaN       NaN  36.42\n",
      "2019-04-28 17:26:00    NaN       NaN  31.43\n",
      "2019-04-28 17:38:00    NaN     34.87    NaN\n",
      "2019-04-28 19:35:00    NaN     16.96    NaN\n",
      "\n",
      "[2182 rows x 3 columns]\n",
      "2182\n",
      "type                 Rural  Suburban  Urban\n",
      "date                                       \n",
      "2019-01-01 00:08:00    NaN       NaN    1.0\n",
      "2019-01-01 00:46:00    NaN       1.0    NaN\n",
      "2019-01-01 02:07:00    NaN       1.0    NaN\n",
      "2019-01-01 03:46:00    NaN       NaN    1.0\n",
      "2019-01-01 05:23:00    NaN       NaN    1.0\n",
      "...                    ...       ...    ...\n",
      "2019-04-28 14:28:00    NaN       NaN    1.0\n",
      "2019-04-28 16:29:00    NaN       NaN    1.0\n",
      "2019-04-28 17:26:00    NaN       NaN    1.0\n",
      "2019-04-28 17:38:00    NaN       1.0    NaN\n",
      "2019-04-28 19:35:00    NaN       1.0    NaN\n",
      "\n",
      "[2182 rows x 3 columns]\n"
     ]
    }
   ],
   "source": [
    "# 5. Create a new DataFrame from the pivot table DataFrame using loc on the given dates, '2019-01-01':'2019-04-29'.\n",
    "\n",
    "date1=\"2019-01-01\"\n",
    "date2=\"2019-04-28\"\n",
    "#mask = (fares_date_pivot['date'] >= date1) & (fares_date_pivot['date'] <= date2)\n",
    "fares_date_2019=fares_date_pivot.loc[date1:date2]\n",
    "print(fares_date_2019)\n",
    "print(len(fares_date_2019))\n",
    "\n",
    "ride_count_2019=ride_count_date_pivot.loc[date1:date2]\n",
    "print(ride_count_2019)\n",
    "#print(len(ride_count_2019))"
   ]
  },
  {
   "cell_type": "markdown",
   "metadata": {},
   "source": [
    "# 6. Set the \"date\" index to datetime datatype. This is necessary to use the resample() method in Step 8.\n",
    "# df.index = pd.to_datetime(df.index)\n",
    "see step 3"
   ]
  },
  {
   "cell_type": "code",
   "execution_count": null,
   "metadata": {},
   "outputs": [],
   "source": [
    "# 7. Check that the datatype for the index is datetime using df.info()\n",
    "fares_date_pivot.info()"
   ]
  },
  {
   "cell_type": "code",
   "execution_count": 44,
   "metadata": {},
   "outputs": [
    {
     "name": "stdout",
     "output_type": "stream",
     "text": [
      "Monthly Fares type          Rural  Suburban    Urban\n",
      "date                                  \n",
      "2019-01-31   940.00   4796.08  9054.33\n",
      "2019-02-28   919.17   4442.70  8875.99\n",
      "2019-03-31   877.50   4341.99  9845.95\n",
      "2019-04-30  1177.02   4302.57  9289.51\n",
      "Monthly Rides type        Rural  Suburban  Urban\n",
      "date                              \n",
      "2019-01-31     27       147    366\n",
      "2019-02-28     26       142    366\n",
      "2019-03-31     26       142    406\n",
      "2019-04-30     35       139    363\n"
     ]
    }
   ],
   "source": [
    "monthly_fares_winter_2019_df=fares_date_2019.resample('M').sum()\n",
    "print(f\"Monthly Fares\",monthly_fares_winter_2019_df)\n",
    "monthly_rides_winter_2019_df=ride_count_2019.resample('M').count()\n",
    "print(f\"Monthly Rides\",monthly_rides_winter_2019_df)"
   ]
  },
  {
   "cell_type": "code",
   "execution_count": 39,
   "metadata": {},
   "outputs": [
    {
     "data": {
      "text/html": [
       "<div>\n",
       "<style scoped>\n",
       "    .dataframe tbody tr th:only-of-type {\n",
       "        vertical-align: middle;\n",
       "    }\n",
       "\n",
       "    .dataframe tbody tr th {\n",
       "        vertical-align: top;\n",
       "    }\n",
       "\n",
       "    .dataframe thead th {\n",
       "        text-align: right;\n",
       "    }\n",
       "</style>\n",
       "<table border=\"1\" class=\"dataframe\">\n",
       "  <thead>\n",
       "    <tr style=\"text-align: right;\">\n",
       "      <th>type</th>\n",
       "      <th>Rural</th>\n",
       "      <th>Suburban</th>\n",
       "      <th>Urban</th>\n",
       "    </tr>\n",
       "    <tr>\n",
       "      <th>date</th>\n",
       "      <th></th>\n",
       "      <th></th>\n",
       "      <th></th>\n",
       "    </tr>\n",
       "  </thead>\n",
       "  <tbody>\n",
       "    <tr>\n",
       "      <th>2019-01-06</th>\n",
       "      <td>187.92</td>\n",
       "      <td>721.60</td>\n",
       "      <td>1661.68</td>\n",
       "    </tr>\n",
       "    <tr>\n",
       "      <th>2019-01-13</th>\n",
       "      <td>67.65</td>\n",
       "      <td>1105.13</td>\n",
       "      <td>2050.43</td>\n",
       "    </tr>\n",
       "    <tr>\n",
       "      <th>2019-01-20</th>\n",
       "      <td>306.00</td>\n",
       "      <td>1218.20</td>\n",
       "      <td>1939.02</td>\n",
       "    </tr>\n",
       "    <tr>\n",
       "      <th>2019-01-27</th>\n",
       "      <td>179.69</td>\n",
       "      <td>1203.28</td>\n",
       "      <td>2129.51</td>\n",
       "    </tr>\n",
       "    <tr>\n",
       "      <th>2019-02-03</th>\n",
       "      <td>333.08</td>\n",
       "      <td>1042.79</td>\n",
       "      <td>2086.94</td>\n",
       "    </tr>\n",
       "    <tr>\n",
       "      <th>2019-02-10</th>\n",
       "      <td>115.80</td>\n",
       "      <td>974.34</td>\n",
       "      <td>2162.64</td>\n",
       "    </tr>\n",
       "    <tr>\n",
       "      <th>2019-02-17</th>\n",
       "      <td>95.82</td>\n",
       "      <td>1045.50</td>\n",
       "      <td>2235.07</td>\n",
       "    </tr>\n",
       "    <tr>\n",
       "      <th>2019-02-24</th>\n",
       "      <td>419.06</td>\n",
       "      <td>1412.74</td>\n",
       "      <td>2466.29</td>\n",
       "    </tr>\n",
       "    <tr>\n",
       "      <th>2019-03-03</th>\n",
       "      <td>175.14</td>\n",
       "      <td>858.46</td>\n",
       "      <td>2218.20</td>\n",
       "    </tr>\n",
       "    <tr>\n",
       "      <th>2019-03-10</th>\n",
       "      <td>303.94</td>\n",
       "      <td>925.27</td>\n",
       "      <td>2470.93</td>\n",
       "    </tr>\n",
       "    <tr>\n",
       "      <th>2019-03-17</th>\n",
       "      <td>163.39</td>\n",
       "      <td>906.20</td>\n",
       "      <td>2044.42</td>\n",
       "    </tr>\n",
       "    <tr>\n",
       "      <th>2019-03-24</th>\n",
       "      <td>189.76</td>\n",
       "      <td>1122.20</td>\n",
       "      <td>2368.37</td>\n",
       "    </tr>\n",
       "    <tr>\n",
       "      <th>2019-03-31</th>\n",
       "      <td>199.42</td>\n",
       "      <td>1045.06</td>\n",
       "      <td>1942.77</td>\n",
       "    </tr>\n",
       "    <tr>\n",
       "      <th>2019-04-07</th>\n",
       "      <td>501.24</td>\n",
       "      <td>1010.73</td>\n",
       "      <td>2356.70</td>\n",
       "    </tr>\n",
       "    <tr>\n",
       "      <th>2019-04-14</th>\n",
       "      <td>269.79</td>\n",
       "      <td>784.82</td>\n",
       "      <td>2390.72</td>\n",
       "    </tr>\n",
       "    <tr>\n",
       "      <th>2019-04-21</th>\n",
       "      <td>214.14</td>\n",
       "      <td>1149.27</td>\n",
       "      <td>2303.80</td>\n",
       "    </tr>\n",
       "    <tr>\n",
       "      <th>2019-04-28</th>\n",
       "      <td>191.85</td>\n",
       "      <td>1357.75</td>\n",
       "      <td>2238.29</td>\n",
       "    </tr>\n",
       "  </tbody>\n",
       "</table>\n",
       "</div>"
      ],
      "text/plain": [
       "type         Rural  Suburban    Urban\n",
       "date                                 \n",
       "2019-01-06  187.92    721.60  1661.68\n",
       "2019-01-13   67.65   1105.13  2050.43\n",
       "2019-01-20  306.00   1218.20  1939.02\n",
       "2019-01-27  179.69   1203.28  2129.51\n",
       "2019-02-03  333.08   1042.79  2086.94\n",
       "2019-02-10  115.80    974.34  2162.64\n",
       "2019-02-17   95.82   1045.50  2235.07\n",
       "2019-02-24  419.06   1412.74  2466.29\n",
       "2019-03-03  175.14    858.46  2218.20\n",
       "2019-03-10  303.94    925.27  2470.93\n",
       "2019-03-17  163.39    906.20  2044.42\n",
       "2019-03-24  189.76   1122.20  2368.37\n",
       "2019-03-31  199.42   1045.06  1942.77\n",
       "2019-04-07  501.24   1010.73  2356.70\n",
       "2019-04-14  269.79    784.82  2390.72\n",
       "2019-04-21  214.14   1149.27  2303.80\n",
       "2019-04-28  191.85   1357.75  2238.29"
      ]
     },
     "execution_count": 39,
     "metadata": {},
     "output_type": "execute_result"
    }
   ],
   "source": [
    "# 8. Create a new DataFrame using the \"resample()\" function by week 'W' and get the sum of the fares for each week.\n",
    "weekly_fares_winter_2019_df=fares_date_2019.resample('W').sum()\n",
    "weekly_fares_winter_2019_df"
   ]
  },
  {
   "cell_type": "code",
   "execution_count": null,
   "metadata": {},
   "outputs": [],
   "source": [
    "weekly_fares_winter_2019_df.describe()"
   ]
  },
  {
   "cell_type": "code",
   "execution_count": 46,
   "metadata": {},
   "outputs": [
    {
     "data": {
      "image/png": "[encoded data removed]",
      "text/plain": [
       "<Figure size 1440x432 with 1 Axes>"
      ]
     },
     "metadata": {
      "needs_background": "light"
     },
     "output_type": "display_data"
    }
   ],
   "source": [
    "# 8. Using the object-oriented interface method, plot the resample DataFrame using the df.plot() function. \n",
    "# Create the plot with ax.plt()\n",
    "\n",
    "\n",
    "ax = weekly_fares_winter_2019_df.plot.line(figsize=(20, 6))\n",
    "ax.set_ylabel('Fares USD$')\n",
    "ax.set_title(\"Total Fare by City Type\")\n",
    "\n",
    "# Import the style from Matplotlib.\n",
    "from matplotlib import style\n",
    "# Use the graph style fivethirtyeight.\n",
    "style.use('fivethirtyeight')\n",
    "\n",
    "plt.savefig(\"Analysis\\City_Fares \")"
   ]
  },
  {
   "cell_type": "code",
   "execution_count": null,
   "metadata": {},
   "outputs": [],
   "source": []
  }
 ],
 "metadata": {
  "anaconda-cloud": {},
  "kernelspec": {
   "display_name": "PythonData",
   "language": "python",
   "name": "pythondata"
  },
  "language_info": {
   "codemirror_mode": {
    "name": "ipython",
    "version": 3
   },
   "file_extension": ".py",
   "mimetype": "text/x-python",
   "name": "python",
   "nbconvert_exporter": "python",
   "pygments_lexer": "ipython3",
   "version": "3.6.10"
  }
 },
 "nbformat": 4,
 "nbformat_minor": 2
}
